df['Lose']=df['Ending(USD)']-df['Starting(USD)']
df.head()


#MSE and MAE
from sklearn.metrics import mean_squared_error,mean_absolute_error

mse=mean_squared_error(df['Ending(USD)'],df['Predicted_y'])
mse

mae=mean_absolute_error(df['Ending(USD)'],df['Predicted_y'])
mae

reg.score(x,y)

plt.scatter(df['Starting(USD)'],df['Ending(USD)'])
plt.scatter(df['Starting(USD)'],reg.predict(x))
plt.xlabel('Starting(USD)')
plt.ylabel('Ending(USD)')
plt.title('Starting vs Ending')
plt.scatter(x.mean(),y.mean(),color='red')
plt.plot(x,reg.predict(x))
