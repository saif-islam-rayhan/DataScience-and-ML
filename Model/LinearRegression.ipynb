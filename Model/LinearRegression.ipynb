


###install sklearn
!pip install sklearn

###Read Data & import pandas and matplot
import pandas as pd
import matplotlib.pyplot as plt
df=pd.read_csv('/content/Untitled spreadsheet - Sheet1.csv')
#df.head()

###Data cleaning chek
#df.isnull().sum()

###Data Reduction
df=df.drop(columns=['Date'])
df.head()

###Ploting Data
plt.scatter(df['Starting(USD)'],df['Ending(USD)'])
plt.xlabel('Starting(USD)')
plt.ylabel('Ending(USD)')
plt.title('Starting vs Ending')
plt.show()

x=df.drop('Ending(USD)',axis=1)
x.head()

y=df.drop('Starting(USD)',axis=1)
y.head()

###** LinearRegression:**
from sklearn.linear_model import  LinearRegression

reg =LinearRegression()
x.mean()
y.mean()

plt.scatter(df['Starting(USD)'],df['Ending(USD)'])
plt.xlabel('Starting(USD)')
plt.ylabel('Ending(USD)')
plt.title('Starting vs Ending')
plt.scatter(x.mean(),y.mean(),color='red')

#Train the ML model
reg.fit(x,y)

m=reg.coef_
m
c=reg.intercept_
c

#y=mx+c
m*16700+c

reg.predict([[16700]])

df['Predicted_y']=reg.predict(x)
df.head()

plt.scatter(df['Starting(USD)'],df['Ending(USD)'])
plt.xlabel('Starting(USD)')
plt.ylabel('Ending(USD)')
plt.title('Starting vs Ending')
plt.scatter(x.mean(),y.mean(),color='red')
plt.plot(x,reg.predict(x))
