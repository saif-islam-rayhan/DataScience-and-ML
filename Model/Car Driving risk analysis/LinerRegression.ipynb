import pandas as pd
import matplotlib.pyplot as plt
from sklearn.linear_model import LinearRegression
from sklearn.model_selection import train_test_split
from sklearn.metrics import mean_squared_error, mean_absolute_error

# Load data
df = pd.read_csv('/content/car driving risk analysis.csv')

print(df.shape)
print(df.columns)

# Scatter plot
plt.scatter(df['speed'], df['risk'])
plt.xlabel('Speed')
plt.ylabel('Risk')
plt.title('Speed vs Risk (scatter)')
plt.show()

# Feature and target
X = df[['speed']]
y = df['risk']

# Train-test split (80% train, 20% test)
X_train, X_test, y_train, y_test = train_test_split(X, y, test_size=0.2, random_state=42)

# Train model
reg = LinearRegression()
reg.fit(X_train, y_train)

# Mean point
plt.scatter(df['speed'], df['risk'])
plt.scatter(X.mean(), y.mean(), color='red', label='Mean Point')
plt.xlabel('Speed')
plt.ylabel('Risk')
plt.title('Speed vs Risk')
plt.legend()
plt.show()

# Predict for a specific speed
print("Predicted risk for speed 190:", reg.predict([[190]])[0])

# Predictions for dataset
df['Predicted_risk'] = reg.predict(X)

# Regression line
plt.scatter(df['speed'], df['risk'], label='Actual')
plt.plot(df['speed'], reg.predict(X), color='green', label='Regression Line')
plt.xlabel('Speed')
plt.ylabel('Risk')
plt.title('Speed vs Risk with Regression Line')
plt.legend()
plt.show()

# Loss column
df['loss'] = df['risk'] - df['Predicted_risk']
print(df.head())

# Evaluate on TEST set
y_pred_test = reg.predict(X_test)
mse = mean_squared_error(y_test, y_pred_test)
mae = mean_absolute_error(y_test, y_pred_test)
r2 = reg.score(X_test, y_test)

print("MSE (test):", mse)
print("MAE (test):", mae)
print("R² Score (test):", r2)


