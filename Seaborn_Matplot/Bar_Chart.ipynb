x = ['A', 'B', 'C', 'D']
y = [10, 20, 15, 25]

plt.bar(x, y, color='orange')
plt.title("Bar Chart Example")
plt.xlabel("Categories")
plt.ylabel("Values")
plt.show()
