data = [10, 20, 20, 30, 30, 30, 40, 40, 50, 60]

plt.hist(data, bins=5, color='green')
plt.title("Histogram Example")
plt.xlabel("Value")
plt.ylabel("Frequency")
plt.show()
