x = [1, 2, 3, 4, 5]
y1 = [1, 4, 9, 16, 25]
y2 = [2, 3, 5, 7, 11]

plt.plot(x, y1, label="Square", color="blue")
plt.plot(x, y2, label="Prime", color="red")

plt.title("Multiple Line Plot")
plt.xlabel("X")
plt.ylabel("Y")
plt.legend()
plt.show()
