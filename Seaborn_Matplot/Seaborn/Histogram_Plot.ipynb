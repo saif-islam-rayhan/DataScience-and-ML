import seaborn as sns
import matplotlib.pyplot as plt

df = sns.load_dataset("tips")

sns.histplot(df["total_bill"], bins=10, kde=True)
plt.title("Total Bill Distribution")
plt.show()
