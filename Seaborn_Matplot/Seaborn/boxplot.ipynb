import seaborn as sns
import matplotlib.pyplot as plt

df = sns.load_dataset("tips")

sns.boxplot(x="day", y="total_bill", data=df)
plt.title("Total Bill Distribution per Day")
plt.show()
