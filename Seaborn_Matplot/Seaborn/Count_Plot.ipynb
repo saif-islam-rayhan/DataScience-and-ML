import seaborn as sns
import matplotlib.pyplot as plt

df = sns.load_dataset("tips")

sns.countplot(x="day", data=df)
plt.title("Number of Bills per Day")
plt.show()
